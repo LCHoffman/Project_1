{
 "cells": [
  {
   "cell_type": "code",
   "execution_count": 2,
   "metadata": {},
   "outputs": [],
   "source": [
    "import pandas as pd\n",
    "import matplotlib.pyplot as plt\n",
    "import numpy as np\n",
    "import scipy.stats as stats"
   ]
  },
  {
   "cell_type": "code",
   "execution_count": 3,
   "metadata": {},
   "outputs": [
    {
     "data": {
      "text/html": [
       "<div>\n",
       "<style scoped>\n",
       "    .dataframe tbody tr th:only-of-type {\n",
       "        vertical-align: middle;\n",
       "    }\n",
       "\n",
       "    .dataframe tbody tr th {\n",
       "        vertical-align: top;\n",
       "    }\n",
       "\n",
       "    .dataframe thead th {\n",
       "        text-align: right;\n",
       "    }\n",
       "</style>\n",
       "<table border=\"1\" class=\"dataframe\">\n",
       "  <thead>\n",
       "    <tr style=\"text-align: right;\">\n",
       "      <th></th>\n",
       "      <th>Unnamed: 0</th>\n",
       "      <th>Landfill Name</th>\n",
       "      <th>State_x</th>\n",
       "      <th>County</th>\n",
       "      <th>State_y</th>\n",
       "      <th>Age-Adjusted Incidence Rate - cases per 100,000</th>\n",
       "      <th>Average Annual Count</th>\n",
       "      <th>Recent Trend</th>\n",
       "      <th>Clean State</th>\n",
       "    </tr>\n",
       "  </thead>\n",
       "  <tbody>\n",
       "    <tr>\n",
       "      <th>0</th>\n",
       "      <td>0</td>\n",
       "      <td>Anchorage Regional Landfill</td>\n",
       "      <td>AK</td>\n",
       "      <td>Anchorage</td>\n",
       "      <td>0</td>\n",
       "      <td>0.0</td>\n",
       "      <td>0</td>\n",
       "      <td>0</td>\n",
       "      <td>0</td>\n",
       "    </tr>\n",
       "    <tr>\n",
       "      <th>1</th>\n",
       "      <td>1</td>\n",
       "      <td>Capitol Disposal Landfill</td>\n",
       "      <td>AK</td>\n",
       "      <td>Juneau</td>\n",
       "      <td>0</td>\n",
       "      <td>0.0</td>\n",
       "      <td>0</td>\n",
       "      <td>0</td>\n",
       "      <td>0</td>\n",
       "    </tr>\n",
       "    <tr>\n",
       "      <th>2</th>\n",
       "      <td>2</td>\n",
       "      <td>Central Peninsula Landfill (CPL)</td>\n",
       "      <td>AK</td>\n",
       "      <td>Kenai Peninsula</td>\n",
       "      <td>0</td>\n",
       "      <td>0.0</td>\n",
       "      <td>0</td>\n",
       "      <td>0</td>\n",
       "      <td>0</td>\n",
       "    </tr>\n",
       "    <tr>\n",
       "      <th>3</th>\n",
       "      <td>5</td>\n",
       "      <td>Palmer Central Landfill</td>\n",
       "      <td>AK</td>\n",
       "      <td>Matanuska-Susitna</td>\n",
       "      <td>0</td>\n",
       "      <td>0.0</td>\n",
       "      <td>0</td>\n",
       "      <td>0</td>\n",
       "      <td>0</td>\n",
       "    </tr>\n",
       "    <tr>\n",
       "      <th>4</th>\n",
       "      <td>6</td>\n",
       "      <td>South Cushman Landfill</td>\n",
       "      <td>AK</td>\n",
       "      <td>Fairbanks North Star</td>\n",
       "      <td>Alaska</td>\n",
       "      <td>386.2</td>\n",
       "      <td>317</td>\n",
       "      <td>falling</td>\n",
       "      <td>AK</td>\n",
       "    </tr>\n",
       "    <tr>\n",
       "      <th>...</th>\n",
       "      <td>...</td>\n",
       "      <td>...</td>\n",
       "      <td>...</td>\n",
       "      <td>...</td>\n",
       "      <td>...</td>\n",
       "      <td>...</td>\n",
       "      <td>...</td>\n",
       "      <td>...</td>\n",
       "      <td>...</td>\n",
       "    </tr>\n",
       "    <tr>\n",
       "      <th>848</th>\n",
       "      <td>2621</td>\n",
       "      <td>Tucker County Landfill</td>\n",
       "      <td>WV</td>\n",
       "      <td>Tucker</td>\n",
       "      <td>West Virginia</td>\n",
       "      <td>527.4</td>\n",
       "      <td>59</td>\n",
       "      <td>falling</td>\n",
       "      <td>WV</td>\n",
       "    </tr>\n",
       "    <tr>\n",
       "      <th>849</th>\n",
       "      <td>2623</td>\n",
       "      <td>Wetzel County Landfill</td>\n",
       "      <td>WV</td>\n",
       "      <td>Wetzel</td>\n",
       "      <td>West Virginia</td>\n",
       "      <td>499.3</td>\n",
       "      <td>117</td>\n",
       "      <td>stable</td>\n",
       "      <td>WV</td>\n",
       "    </tr>\n",
       "    <tr>\n",
       "      <th>850</th>\n",
       "      <td>2625</td>\n",
       "      <td>Casper Balefill</td>\n",
       "      <td>WY</td>\n",
       "      <td>Natrona</td>\n",
       "      <td>Wyoming</td>\n",
       "      <td>419.9</td>\n",
       "      <td>382</td>\n",
       "      <td>falling</td>\n",
       "      <td>WY</td>\n",
       "    </tr>\n",
       "    <tr>\n",
       "      <th>851</th>\n",
       "      <td>2626</td>\n",
       "      <td>Cheyenne Landfill</td>\n",
       "      <td>WY</td>\n",
       "      <td>Laramie</td>\n",
       "      <td>Wyoming</td>\n",
       "      <td>443.5</td>\n",
       "      <td>491</td>\n",
       "      <td>falling</td>\n",
       "      <td>WY</td>\n",
       "    </tr>\n",
       "    <tr>\n",
       "      <th>852</th>\n",
       "      <td>2628</td>\n",
       "      <td>Sheridan Existing Landfill</td>\n",
       "      <td>WY</td>\n",
       "      <td>Sheridan</td>\n",
       "      <td>Wyoming</td>\n",
       "      <td>NaN</td>\n",
       "      <td>165</td>\n",
       "      <td>stable</td>\n",
       "      <td>WY</td>\n",
       "    </tr>\n",
       "  </tbody>\n",
       "</table>\n",
       "<p>853 rows × 9 columns</p>\n",
       "</div>"
      ],
      "text/plain": [
       "     Unnamed: 0                     Landfill Name State_x  \\\n",
       "0             0       Anchorage Regional Landfill      AK   \n",
       "1             1         Capitol Disposal Landfill      AK   \n",
       "2             2  Central Peninsula Landfill (CPL)      AK   \n",
       "3             5           Palmer Central Landfill      AK   \n",
       "4             6            South Cushman Landfill      AK   \n",
       "..          ...                               ...     ...   \n",
       "848        2621            Tucker County Landfill      WV   \n",
       "849        2623            Wetzel County Landfill      WV   \n",
       "850        2625                   Casper Balefill      WY   \n",
       "851        2626                 Cheyenne Landfill      WY   \n",
       "852        2628        Sheridan Existing Landfill      WY   \n",
       "\n",
       "                   County         State_y  \\\n",
       "0               Anchorage               0   \n",
       "1                  Juneau               0   \n",
       "2         Kenai Peninsula               0   \n",
       "3       Matanuska-Susitna               0   \n",
       "4    Fairbanks North Star          Alaska   \n",
       "..                    ...             ...   \n",
       "848                Tucker   West Virginia   \n",
       "849                Wetzel   West Virginia   \n",
       "850               Natrona         Wyoming   \n",
       "851               Laramie         Wyoming   \n",
       "852              Sheridan         Wyoming   \n",
       "\n",
       "     Age-Adjusted Incidence Rate - cases per 100,000  Average Annual Count  \\\n",
       "0                                                0.0                     0   \n",
       "1                                                0.0                     0   \n",
       "2                                                0.0                     0   \n",
       "3                                                0.0                     0   \n",
       "4                                              386.2                   317   \n",
       "..                                               ...                   ...   \n",
       "848                                            527.4                    59   \n",
       "849                                            499.3                   117   \n",
       "850                                            419.9                   382   \n",
       "851                                            443.5                   491   \n",
       "852                                              NaN                   165   \n",
       "\n",
       "    Recent Trend Clean State  \n",
       "0              0           0  \n",
       "1              0           0  \n",
       "2              0           0  \n",
       "3              0           0  \n",
       "4        falling          AK  \n",
       "..           ...         ...  \n",
       "848      falling          WV  \n",
       "849       stable          WV  \n",
       "850      falling          WY  \n",
       "851      falling          WY  \n",
       "852       stable          WY  \n",
       "\n",
       "[853 rows x 9 columns]"
      ]
     },
     "execution_count": 3,
     "metadata": {},
     "output_type": "execute_result"
    }
   ],
   "source": [
    "#Name of the CSV file\n",
    "file = './project_1 HW files, Combined_data_df8.csv'\n",
    "\n",
    "#Pull in the landfill data into a dataframe\n",
    "combined_df= pd.read_csv(file)\n",
    "combined_df"
   ]
  },
  {
   "cell_type": "code",
   "execution_count": 4,
   "metadata": {},
   "outputs": [
    {
     "data": {
      "text/plain": [
       "0        0.0\n",
       "1        0.0\n",
       "2        0.0\n",
       "3        0.0\n",
       "4      386.2\n",
       "       ...  \n",
       "848    527.4\n",
       "849    499.3\n",
       "850    419.9\n",
       "851    443.5\n",
       "852      NaN\n",
       "Name: Age-Adjusted Incidence Rate - cases per 100,000, Length: 853, dtype: float64"
      ]
     },
     "execution_count": 4,
     "metadata": {},
     "output_type": "execute_result"
    }
   ],
   "source": [
    "combined_df[\"State\"] = combined_df[\"State_x\"]\n",
    "combined_df[\"Age-Adjusted Incidence Rate - cases per 100,000\"].astype(float)"
   ]
  },
  {
   "cell_type": "code",
   "execution_count": 5,
   "metadata": {},
   "outputs": [],
   "source": [
    "cancer_data = combined_df[combined_df[\"Average Annual Count\"] > 0]\n",
    "cancer_data = cancer_data[['Landfill Name', 'State', 'County','Average Annual Count']]\n",
    "cancer_data\n",
    "\n",
    "output_data_file = \"./average_annual_cancer_landfills.csv\"\n",
    "\n",
    "cancer_data.to_csv(output_data_file)"
   ]
  },
  {
   "cell_type": "code",
   "execution_count": 6,
   "metadata": {},
   "outputs": [],
   "source": [
    "cancer_data_2 = combined_df[combined_df['Age-Adjusted Incidence Rate - cases per 100,000'] > 0]\n",
    "cancer_data_2 = cancer_data_2[['Landfill Name', 'State', 'County','Age-Adjusted Incidence Rate - cases per 100,000']]\n",
    "\n",
    "output_data_file_2 = \"./incidence_rate_landfill.csv\"\n",
    "\n",
    "cancer_data.to_csv(output_data_file_2)"
   ]
  },
  {
   "cell_type": "code",
   "execution_count": 7,
   "metadata": {},
   "outputs": [
    {
     "data": {
      "text/html": [
       "<div>\n",
       "<style scoped>\n",
       "    .dataframe tbody tr th:only-of-type {\n",
       "        vertical-align: middle;\n",
       "    }\n",
       "\n",
       "    .dataframe tbody tr th {\n",
       "        vertical-align: top;\n",
       "    }\n",
       "\n",
       "    .dataframe thead th {\n",
       "        text-align: right;\n",
       "    }\n",
       "</style>\n",
       "<table border=\"1\" class=\"dataframe\">\n",
       "  <thead>\n",
       "    <tr style=\"text-align: right;\">\n",
       "      <th></th>\n",
       "      <th>Age-Adjusted Incidence Rate - cases per 100,000</th>\n",
       "    </tr>\n",
       "  </thead>\n",
       "  <tbody>\n",
       "    <tr>\n",
       "      <th>count</th>\n",
       "      <td>765.000000</td>\n",
       "    </tr>\n",
       "    <tr>\n",
       "      <th>mean</th>\n",
       "      <td>452.272680</td>\n",
       "    </tr>\n",
       "    <tr>\n",
       "      <th>std</th>\n",
       "      <td>49.942346</td>\n",
       "    </tr>\n",
       "    <tr>\n",
       "      <th>min</th>\n",
       "      <td>232.700000</td>\n",
       "    </tr>\n",
       "    <tr>\n",
       "      <th>25%</th>\n",
       "      <td>423.600000</td>\n",
       "    </tr>\n",
       "    <tr>\n",
       "      <th>50%</th>\n",
       "      <td>455.400000</td>\n",
       "    </tr>\n",
       "    <tr>\n",
       "      <th>75%</th>\n",
       "      <td>485.400000</td>\n",
       "    </tr>\n",
       "    <tr>\n",
       "      <th>max</th>\n",
       "      <td>610.100000</td>\n",
       "    </tr>\n",
       "  </tbody>\n",
       "</table>\n",
       "</div>"
      ],
      "text/plain": [
       "       Age-Adjusted Incidence Rate - cases per 100,000\n",
       "count                                       765.000000\n",
       "mean                                        452.272680\n",
       "std                                          49.942346\n",
       "min                                         232.700000\n",
       "25%                                         423.600000\n",
       "50%                                         455.400000\n",
       "75%                                         485.400000\n",
       "max                                         610.100000"
      ]
     },
     "execution_count": 7,
     "metadata": {},
     "output_type": "execute_result"
    }
   ],
   "source": [
    "cancer_data_2.describe()"
   ]
  },
  {
   "cell_type": "markdown",
   "metadata": {},
   "source": [
    "#### The rate of new cases of cancer (cancer incidence) is 442.4 per 100,000 men and women per year (based on 2013–2017 cases).\n",
    "\n",
    "Cancer Statistics - National Cancer Institute"
   ]
  },
  {
   "cell_type": "code",
   "execution_count": 8,
   "metadata": {},
   "outputs": [
    {
     "data": {
      "text/html": [
       "<div>\n",
       "<style scoped>\n",
       "    .dataframe tbody tr th:only-of-type {\n",
       "        vertical-align: middle;\n",
       "    }\n",
       "\n",
       "    .dataframe tbody tr th {\n",
       "        vertical-align: top;\n",
       "    }\n",
       "\n",
       "    .dataframe thead th {\n",
       "        text-align: right;\n",
       "    }\n",
       "</style>\n",
       "<table border=\"1\" class=\"dataframe\">\n",
       "  <thead>\n",
       "    <tr style=\"text-align: right;\">\n",
       "      <th></th>\n",
       "      <th>Landfill Name</th>\n",
       "      <th>State</th>\n",
       "      <th>County</th>\n",
       "      <th>Age-Adjusted Incidence Rate - cases per 100,000</th>\n",
       "      <th>Expected Incidence</th>\n",
       "    </tr>\n",
       "  </thead>\n",
       "  <tbody>\n",
       "    <tr>\n",
       "      <th>4</th>\n",
       "      <td>South Cushman Landfill</td>\n",
       "      <td>AK</td>\n",
       "      <td>Fairbanks North Star</td>\n",
       "      <td>386.2</td>\n",
       "      <td>442.4</td>\n",
       "    </tr>\n",
       "    <tr>\n",
       "      <th>5</th>\n",
       "      <td>Unalaska Landfill</td>\n",
       "      <td>AK</td>\n",
       "      <td>Aleutians West</td>\n",
       "      <td>387.8</td>\n",
       "      <td>442.4</td>\n",
       "    </tr>\n",
       "    <tr>\n",
       "      <th>7</th>\n",
       "      <td>Arrowhead Landfill</td>\n",
       "      <td>AL</td>\n",
       "      <td>Perry</td>\n",
       "      <td>449.7</td>\n",
       "      <td>442.4</td>\n",
       "    </tr>\n",
       "    <tr>\n",
       "      <th>8</th>\n",
       "      <td>Athens/Limestone County SLF MSWLF</td>\n",
       "      <td>AL</td>\n",
       "      <td>Limestone</td>\n",
       "      <td>462.5</td>\n",
       "      <td>442.4</td>\n",
       "    </tr>\n",
       "    <tr>\n",
       "      <th>9</th>\n",
       "      <td>Bishop Landfill Company</td>\n",
       "      <td>AL</td>\n",
       "      <td>Marshall</td>\n",
       "      <td>443.7</td>\n",
       "      <td>442.4</td>\n",
       "    </tr>\n",
       "    <tr>\n",
       "      <th>...</th>\n",
       "      <td>...</td>\n",
       "      <td>...</td>\n",
       "      <td>...</td>\n",
       "      <td>...</td>\n",
       "      <td>...</td>\n",
       "    </tr>\n",
       "    <tr>\n",
       "      <th>847</th>\n",
       "      <td>Raleigh County SWA Landfill</td>\n",
       "      <td>WV</td>\n",
       "      <td>Raleigh</td>\n",
       "      <td>483.5</td>\n",
       "      <td>442.4</td>\n",
       "    </tr>\n",
       "    <tr>\n",
       "      <th>848</th>\n",
       "      <td>Tucker County Landfill</td>\n",
       "      <td>WV</td>\n",
       "      <td>Tucker</td>\n",
       "      <td>527.4</td>\n",
       "      <td>442.4</td>\n",
       "    </tr>\n",
       "    <tr>\n",
       "      <th>849</th>\n",
       "      <td>Wetzel County Landfill</td>\n",
       "      <td>WV</td>\n",
       "      <td>Wetzel</td>\n",
       "      <td>499.3</td>\n",
       "      <td>442.4</td>\n",
       "    </tr>\n",
       "    <tr>\n",
       "      <th>850</th>\n",
       "      <td>Casper Balefill</td>\n",
       "      <td>WY</td>\n",
       "      <td>Natrona</td>\n",
       "      <td>419.9</td>\n",
       "      <td>442.4</td>\n",
       "    </tr>\n",
       "    <tr>\n",
       "      <th>851</th>\n",
       "      <td>Cheyenne Landfill</td>\n",
       "      <td>WY</td>\n",
       "      <td>Laramie</td>\n",
       "      <td>443.5</td>\n",
       "      <td>442.4</td>\n",
       "    </tr>\n",
       "  </tbody>\n",
       "</table>\n",
       "<p>765 rows × 5 columns</p>\n",
       "</div>"
      ],
      "text/plain": [
       "                         Landfill Name State                County  \\\n",
       "4               South Cushman Landfill    AK  Fairbanks North Star   \n",
       "5                    Unalaska Landfill    AK        Aleutians West   \n",
       "7                   Arrowhead Landfill    AL                 Perry   \n",
       "8    Athens/Limestone County SLF MSWLF    AL             Limestone   \n",
       "9              Bishop Landfill Company    AL              Marshall   \n",
       "..                                 ...   ...                   ...   \n",
       "847        Raleigh County SWA Landfill    WV               Raleigh   \n",
       "848             Tucker County Landfill    WV                Tucker   \n",
       "849             Wetzel County Landfill    WV                Wetzel   \n",
       "850                    Casper Balefill    WY               Natrona   \n",
       "851                  Cheyenne Landfill    WY               Laramie   \n",
       "\n",
       "     Age-Adjusted Incidence Rate - cases per 100,000  Expected Incidence  \n",
       "4                                              386.2               442.4  \n",
       "5                                              387.8               442.4  \n",
       "7                                              449.7               442.4  \n",
       "8                                              462.5               442.4  \n",
       "9                                              443.7               442.4  \n",
       "..                                               ...                 ...  \n",
       "847                                            483.5               442.4  \n",
       "848                                            527.4               442.4  \n",
       "849                                            499.3               442.4  \n",
       "850                                            419.9               442.4  \n",
       "851                                            443.5               442.4  \n",
       "\n",
       "[765 rows x 5 columns]"
      ]
     },
     "execution_count": 8,
     "metadata": {},
     "output_type": "execute_result"
    }
   ],
   "source": [
    "#Chi-Squared Test\n",
    "#Add expected column - Expected Incidence rate comes from NCI (above)\n",
    "cancer_data_2[\"Expected Incidence\"] = 442.4\n",
    "cancer_data_2 = cancer_data_2[['Landfill Name', 'State', 'County',\n",
    "                               'Age-Adjusted Incidence Rate - cases per 100,000',\n",
    "                               'Expected Incidence']]\n",
    "cancer_data_2"
   ]
  },
  {
   "cell_type": "code",
   "execution_count": 15,
   "metadata": {},
   "outputs": [
    {
     "data": {
      "text/plain": [
       "452.27267973856203"
      ]
     },
     "execution_count": 15,
     "metadata": {},
     "output_type": "execute_result"
    }
   ],
   "source": [
    "cancer_data_2['Age-Adjusted Incidence Rate - cases per 100,000'].mean()"
   ]
  },
  {
   "cell_type": "code",
   "execution_count": 9,
   "metadata": {},
   "outputs": [
    {
     "data": {
      "text/plain": [
       "829.4135301246924"
      ]
     },
     "execution_count": 9,
     "metadata": {},
     "output_type": "execute_result"
    }
   ],
   "source": [
    "# FIND CRITICAL VALUE\n",
    "# The degree of freedom is 765-1 = 764\n",
    "# With a p-value of 0.05, the confidence level is 1.00-0.05 = 0.95.\n",
    "critical_value = stats.chi2.ppf(q = 0.95, df = 764)\n",
    "critical_value"
   ]
  },
  {
   "cell_type": "code",
   "execution_count": 10,
   "metadata": {},
   "outputs": [
    {
     "data": {
      "text/plain": [
       "Power_divergenceResult(statistic=4475.954294755878, pvalue=0.0)"
      ]
     },
     "execution_count": 10,
     "metadata": {},
     "output_type": "execute_result"
    }
   ],
   "source": [
    "#RUN CHI-SQUARED TEST\n",
    "stats.chisquare(cancer_data_2['Age-Adjusted Incidence Rate - cases per 100,000'], cancer_data_2['Expected Incidence'])"
   ]
  },
  {
   "cell_type": "markdown",
   "metadata": {},
   "source": [
    "### The statistic (4475.95) is greater than the critical value (829.41), therefore the results are statistically significant."
   ]
  },
  {
   "cell_type": "code",
   "execution_count": 21,
   "metadata": {},
   "outputs": [
    {
     "name": "stdout",
     "output_type": "stream",
     "text": [
      "The lower quartile of Age-Adjusted Incidence Rate is: 423.6\n",
      "The upper quartile of Age-Adjusted Incidence Rate is: 485.4\n",
      "The interquartile range of Age-Adjusted Incidence Rate is: 61.8\n",
      "The the median of Age-Adjusted Incidence Rate is: 455.4 \n",
      "Values below 330.9 could be outliers.\n",
      "Values above 578.1 could be outliers.\n"
     ]
    }
   ],
   "source": [
    "#Box Plots - Quartiles\n",
    "quartiles = cancer_data_2['Age-Adjusted Incidence Rate - cases per 100,000'].quantile([.25,.5,.75])\n",
    "lowerq = quartiles[0.25]\n",
    "upperq = quartiles[0.75]\n",
    "iqr = upperq-lowerq\n",
    "\n",
    "print(f\"The lower quartile of Age-Adjusted Incidence Rate is: {lowerq}\")\n",
    "print(f\"The upper quartile of Age-Adjusted Incidence Rate is: {upperq}\")\n",
    "print(f\"The interquartile range of Age-Adjusted Incidence Rate is: {round(iqr,2)}\")\n",
    "print(f\"The the median of Age-Adjusted Incidence Rate is: {quartiles[0.5]} \")\n",
    "\n",
    "lower_bound = round(lowerq - (1.5*iqr),2)\n",
    "upper_bound = round(upperq + (1.5*iqr),2)\n",
    "print(f\"Values below {lower_bound} could be outliers.\")\n",
    "print(f\"Values above {upper_bound} could be outliers.\")"
   ]
  },
  {
   "cell_type": "code",
   "execution_count": 14,
   "metadata": {},
   "outputs": [
    {
     "data": {
      "image/png": "[encoded data removed]",
      "text/plain": [
       "<Figure size 432x288 with 1 Axes>"
      ]
     },
     "metadata": {
      "needs_background": "light"
     },
     "output_type": "display_data"
    },
    {
     "data": {
      "text/plain": [
       "<Figure size 432x288 with 0 Axes>"
      ]
     },
     "metadata": {},
     "output_type": "display_data"
    }
   ],
   "source": [
    "Incidence_rate = cancer_data_2['Age-Adjusted Incidence Rate - cases per 100,000']\n",
    "\n",
    "fig1, ax1 = plt.subplots()\n",
    "ax1.set_title('Average Incidence Rate for Cancer near Landfills')\n",
    "ax1.set_ylabel('Cases per 100,000')\n",
    "ax1.boxplot(Incidence_rate)\n",
    "plt.show()\n",
    "\n",
    "plt.savefig(\"./Average Incidence Rate for Cancer near Landfills.png\")"
   ]
  }
 ],
 "metadata": {
  "kernelspec": {
   "display_name": "Python [conda env:PythonData] *",
   "language": "python",
   "name": "conda-env-PythonData-py"
  },
  "language_info": {
   "codemirror_mode": {
    "name": "ipython",
    "version": 3
   },
   "file_extension": ".py",
   "mimetype": "text/x-python",
   "name": "python",
   "nbconvert_exporter": "python",
   "pygments_lexer": "ipython3",
   "version": "3.6.10"
  }
 },
 "nbformat": 4,
 "nbformat_minor": 4
}
